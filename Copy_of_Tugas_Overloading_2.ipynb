{
  "nbformat": 4,
  "nbformat_minor": 0,
  "metadata": {
    "colab": {
      "provenance": [],
      "include_colab_link": true
    },
    "kernelspec": {
      "name": "python3",
      "display_name": "Python 3"
    },
    "language_info": {
      "name": "python"
    }
  },
  "cells": [
    {
      "cell_type": "markdown",
      "metadata": {
        "id": "view-in-github",
        "colab_type": "text"
      },
      "source": [
        "<a href=\"https://colab.research.google.com/github/Bungahcitralestari/class-object/blob/main/Copy_of_Tugas_Overloading_2.ipynb\" target=\"_parent\"><img src=\"https://colab.research.google.com/assets/colab-badge.svg\" alt=\"Open In Colab\"/></a>"
      ]
    },
    {
      "cell_type": "code",
      "execution_count": 1,
      "metadata": {
        "id": "5zCytCeM1uD4"
      },
      "outputs": [],
      "source": [
        "class Nama:\n",
        "  def hasil(self, num1 = \"\", num2 = \"\", num3 = \"\", num4 = \"\", num5 = \"\"):\n",
        "    print(num1+ num2 + num3 + num4 + num5)"
      ]
    },
    {
      "cell_type": "code",
      "source": [
        "coba = Nama()\n",
        "\n",
        "coba.hasil(\" bungah \", \" citra \", \" lestari \")\n",
        "coba.hasil(\" yeyen \", \" lintang \", \" sari \")\n",
        "coba.hasil(\" arum \", \" sekar \", \" kinasih \")\n",
        "coba.hasil(\" nadia \", \" erica \")\n",
        "coba.hasil(\" dinda \", \" ayu \", \" rahma \", \" maulidya \")"
      ],
      "metadata": {
        "id": "liQBcJWZ12MN",
        "colab": {
          "base_uri": "https://localhost:8080/"
        },
        "outputId": "458a1616-6ed6-42a6-e2ca-f83fc882931e"
      },
      "execution_count": 2,
      "outputs": [
        {
          "output_type": "stream",
          "name": "stdout",
          "text": [
            " bungah  citra  lestari \n",
            " yeyen  lintang  sari \n",
            " arum  sekar  kinasih \n",
            " nadia  erica \n",
            " dinda  ayu  rahma  maulidya \n"
          ]
        }
      ]
    },
    {
      "cell_type": "code",
      "source": [
        "#tuliskan kesimpulan dari materi overloading menurut pemahaman anda!\n",
        "print(\"overloading adalah konsep dimana sebuah kelas dapat memiliki beberapa method dengan nama yanag sama tetapi dengan parameter yang berbeda.\")\n",
        "print(\"dalam pyhton, kita tidak bisa membuat beberapa method yang sama dengan parameter yang berbeda sekaligus.\")\n",
        "print(\"kita bisa membuat efek overloading menggunakan dua buah trik, yaitu menggunakan variabel args, dan default parameter.\")\n",
        "print(\"jika num3 dan num4 tidak disertakan dalam pemanggilan method hasil () maka keduanya diberi nilai 0.\")\n"
      ],
      "metadata": {
        "id": "xwFmppIG3JGE",
        "colab": {
          "base_uri": "https://localhost:8080/"
        },
        "outputId": "5c0e03f7-2b00-44a9-dfa1-0b6ac155dda1"
      },
      "execution_count": 3,
      "outputs": [
        {
          "output_type": "stream",
          "name": "stdout",
          "text": [
            "overloading adalah konsep dimana sebuah kelas dapat memiliki beberapa method dengan nama yanag sama tetapi dengan parameter yang berbeda.\n",
            "dalam pyhton, kita tidak bisa membuat beberapa method yang sama dengan parameter yang berbeda sekaligus.\n",
            "kita bisa membuat efek overloading menggunakan dua buah trik, yaitu menggunakan variabel args, dan default parameter.\n",
            "jika num3 dan num4 tidak disertakan dalam pemanggilan method hasil () maka keduanya diberi nilai 0.\n"
          ]
        }
      ]
    }
  ]
}